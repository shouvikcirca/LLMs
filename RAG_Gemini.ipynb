{
  "nbformat": 4,
  "nbformat_minor": 0,
  "metadata": {
    "colab": {
      "provenance": [],
      "gpuType": "T4",
      "include_colab_link": true
    },
    "kernelspec": {
      "name": "python3",
      "display_name": "Python 3"
    },
    "language_info": {
      "name": "python"
    },
    "accelerator": "GPU"
  },
  "cells": [
    {
      "cell_type": "markdown",
      "metadata": {
        "id": "view-in-github",
        "colab_type": "text"
      },
      "source": [
        "<a href=\"https://colab.research.google.com/github/shouvikcirca/LLMs/blob/gemini/RAG_Gemini.ipynb\" target=\"_parent\"><img src=\"https://colab.research.google.com/assets/colab-badge.svg\" alt=\"Open In Colab\"/></a>"
      ]
    },
    {
      "cell_type": "code",
      "source": [
        "! pip install google-generativeai\n",
        "! pip install chromadb\n",
        "! pip install langchain-google-genai\n",
        "! pip install langchain\n",
        "! pip install langchain-community"
      ],
      "metadata": {
        "id": "tR_AZvDxbBxt"
      },
      "execution_count": null,
      "outputs": []
    },
    {
      "cell_type": "code",
      "source": [
        "from google.colab import drive\n",
        "drive.mount('/content/drive', force_remount = True)"
      ],
      "metadata": {
        "id": "_CemJKmPbB0F",
        "outputId": "79955f51-432c-4880-d8d4-4480745642e7",
        "colab": {
          "base_uri": "https://localhost:8080/"
        }
      },
      "execution_count": 1,
      "outputs": [
        {
          "output_type": "stream",
          "name": "stdout",
          "text": [
            "Mounted at /content/drive\n"
          ]
        }
      ]
    },
    {
      "cell_type": "code",
      "source": [
        "from langchain_google_genai import ChatGoogleGenerativeAI\n",
        "from langchain_google_genai import GoogleGenerativeAIEmbeddings\n",
        "from langchain.prompts import PromptTemplate\n",
        "from langchain.chains import create_retrieval_chain\n",
        "from langchain.vectorstores import Chroma\n",
        "from dotenv import load_dotenv\n",
        "import os\n",
        "from langchain_community.document_loaders.telegram import text_to_docs\n",
        "from langchain.chains.combine_documents import create_stuff_documents_chain\n",
        "import google.generativeai as genai"
      ],
      "metadata": {
        "id": "NiunulGYbB2s"
      },
      "execution_count": 3,
      "outputs": []
    },
    {
      "cell_type": "code",
      "source": [
        "_= load_dotenv('drive/MyDrive/env')\n",
        "api_key = os.environ['GEMINI_API_KEY']"
      ],
      "metadata": {
        "id": "fozqK0qfg95c"
      },
      "execution_count": 4,
      "outputs": []
    },
    {
      "cell_type": "code",
      "source": [],
      "metadata": {
        "id": "cJxq7aNYhFIi"
      },
      "execution_count": null,
      "outputs": []
    },
    {
      "cell_type": "code",
      "source": [
        "llm = ChatGoogleGenerativeAI(model=\"gemini-pro\", google_api_key=api_key)\n",
        "embeddings = GoogleGenerativeAIEmbeddings(model=\"models/embedding-001\",google_api_key=api_key)"
      ],
      "metadata": {
        "id": "FmxAcFDwbB5b"
      },
      "execution_count": 5,
      "outputs": []
    },
    {
      "cell_type": "code",
      "source": [
        "with open('drive/MyDrive/LLM/synthetic_data_cb.txt') as f:\n",
        "    data = f.read().split('\\n')"
      ],
      "metadata": {
        "id": "yBoLLT7DbB70"
      },
      "execution_count": 6,
      "outputs": []
    },
    {
      "cell_type": "code",
      "source": [
        "years = range(1960,2021)\n",
        "qlist = []\n",
        "\n",
        "for y in years:\n",
        "     for i in data:\n",
        "            q = i.replace('2021',str(y))\n",
        "            q+='closing balance for {}'.format(y)\n",
        "            nq = 'Question: {} ?'.format(q.split('?')[0]) + '\\nAnswer: {}'.format(q.split('?')[1])\n",
        "            qlist.append(nq)"
      ],
      "metadata": {
        "id": "563IWEJebB-U"
      },
      "execution_count": 7,
      "outputs": []
    },
    {
      "cell_type": "code",
      "source": [
        "qlist[5]"
      ],
      "metadata": {
        "id": "0flRFkvmtKKU",
        "outputId": "d5f8c05e-c842-457b-b574-e5701ac0ea0d",
        "colab": {
          "base_uri": "https://localhost:8080/",
          "height": 35
        }
      },
      "execution_count": 34,
      "outputs": [
        {
          "output_type": "execute_result",
          "data": {
            "text/plain": [
              "'Question: What was the balance at the end of last year ?\\nAnswer: closing balance for 1960'"
            ],
            "application/vnd.google.colaboratory.intrinsic+json": {
              "type": "string"
            }
          },
          "metadata": {},
          "execution_count": 34
        }
      ]
    },
    {
      "cell_type": "code",
      "source": [
        "vectordb = Chroma.from_documents(\n",
        "    collection_name = 'cb1',\n",
        "    documents = text_to_docs(qlist),\n",
        "    embedding = embeddings,\n",
        "    persist_directory=\"drive/MyDrive/LLM/chroma_db\"\n",
        ")"
      ],
      "metadata": {
        "id": "Ssr_WUJEbCA7"
      },
      "execution_count": 18,
      "outputs": []
    },
    {
      "cell_type": "code",
      "source": [
        "# To delete contents of a vectorstore\n",
        "# for id in vectordb.get()['ids']:\n",
        "#   vectordb._collection.delete(ids=[id])"
      ],
      "metadata": {
        "id": "Ck-1KyE3-lKx"
      },
      "execution_count": 15,
      "outputs": []
    },
    {
      "cell_type": "code",
      "source": [
        "vectordb.get()"
      ],
      "metadata": {
        "id": "CobzH42cE2QS"
      },
      "execution_count": null,
      "outputs": []
    },
    {
      "cell_type": "code",
      "source": [
        "retriever = vectordb.as_retriever(search_kwargs={\"k\": 5})"
      ],
      "metadata": {
        "id": "QWKaN4IqbCDU"
      },
      "execution_count": 20,
      "outputs": []
    },
    {
      "cell_type": "code",
      "source": [
        "template = \"\"\"\n",
        "You are a helpful assistant\n",
        "{context}\n",
        "Based on the examples given above, give the answer for the following\n",
        "{input}\n",
        "\"\"\""
      ],
      "metadata": {
        "id": "hmrNIYd7bCFh"
      },
      "execution_count": 21,
      "outputs": []
    },
    {
      "cell_type": "code",
      "source": [
        "prompt = PromptTemplate.from_template(template)"
      ],
      "metadata": {
        "id": "Wkx5hPQLbCHQ"
      },
      "execution_count": 22,
      "outputs": []
    },
    {
      "cell_type": "code",
      "source": [
        "combine_docs_chain = create_stuff_documents_chain(llm, prompt)"
      ],
      "metadata": {
        "id": "I4UoopaLbCKu"
      },
      "execution_count": 23,
      "outputs": []
    },
    {
      "cell_type": "code",
      "source": [
        "retrieval_chain = create_retrieval_chain(retriever, combine_docs_chain)"
      ],
      "metadata": {
        "id": "ENlfF1vglB5n"
      },
      "execution_count": 24,
      "outputs": []
    },
    {
      "cell_type": "code",
      "source": [
        "response=retrieval_chain.invoke({\"input\":\"Closing balance for 1967 ?\"})"
      ],
      "metadata": {
        "id": "4CR5A8OelB75"
      },
      "execution_count": 29,
      "outputs": []
    },
    {
      "cell_type": "code",
      "source": [
        "q2 = response[\"answer\"]\n",
        "q2"
      ],
      "metadata": {
        "id": "dkzoulxOlB-Z",
        "outputId": "8cadcdae-e1fd-40d8-be95-b1a342278c04",
        "colab": {
          "base_uri": "https://localhost:8080/",
          "height": 35
        }
      },
      "execution_count": 31,
      "outputs": [
        {
          "output_type": "execute_result",
          "data": {
            "text/plain": [
              "'closing balance for 1967'"
            ],
            "application/vnd.google.colaboratory.intrinsic+json": {
              "type": "string"
            }
          },
          "metadata": {},
          "execution_count": 31
        }
      ]
    },
    {
      "cell_type": "code",
      "source": [
        "identity_prompt_template = \"Give me back as output whatever i have provided as input in this query \\n {}\""
      ],
      "metadata": {
        "id": "6li-y42IlCA8"
      },
      "execution_count": 39,
      "outputs": []
    },
    {
      "cell_type": "code",
      "source": [
        "def getClosingBalance(year:str):\n",
        "  \"\"\" Takes in the year and returns closing balance for the given year \"\"\"\n",
        "  return \"Closing balance for {} is Rs. 22500\".format(year)"
      ],
      "metadata": {
        "id": "Qx9In5MKlCEW"
      },
      "execution_count": 56,
      "outputs": []
    },
    {
      "cell_type": "code",
      "source": [
        "model = genai.GenerativeModel(\n",
        "    model_name=\"gemini-pro\",\n",
        "    generation_config={'temperature':0.0},\n",
        "    tools = [getClosingBalance]\n",
        ")"
      ],
      "metadata": {
        "id": "xVH3gQSHNNkt"
      },
      "execution_count": 57,
      "outputs": []
    },
    {
      "cell_type": "code",
      "source": [
        "chat = model.start_chat(enable_automatic_function_calling=True, history=[])"
      ],
      "metadata": {
        "id": "ls_HKZ9BOPy2"
      },
      "execution_count": 58,
      "outputs": []
    },
    {
      "cell_type": "code",
      "source": [
        "identity_prompt_template.format(q2)"
      ],
      "metadata": {
        "id": "e6o-N_5dPJe5",
        "outputId": "9fa69f82-8601-4c50-9dda-6fbf0212577d",
        "colab": {
          "base_uri": "https://localhost:8080/",
          "height": 35
        }
      },
      "execution_count": 59,
      "outputs": [
        {
          "output_type": "execute_result",
          "data": {
            "text/plain": [
              "'Give me back as output whatever i have provided as input in this query \\n closing balance for 1967'"
            ],
            "application/vnd.google.colaboratory.intrinsic+json": {
              "type": "string"
            }
          },
          "metadata": {},
          "execution_count": 59
        }
      ]
    },
    {
      "cell_type": "code",
      "source": [
        "response = chat.send_message(identity_prompt_template.format(q2))"
      ],
      "metadata": {
        "id": "skXJrRKEOi2Z"
      },
      "execution_count": 60,
      "outputs": []
    },
    {
      "cell_type": "code",
      "source": [
        "response.text"
      ],
      "metadata": {
        "id": "HnGfkpddPVcb",
        "outputId": "056c281c-8ec9-40dd-a5fb-75d3605a0322",
        "colab": {
          "base_uri": "https://localhost:8080/",
          "height": 35
        }
      },
      "execution_count": 62,
      "outputs": [
        {
          "output_type": "execute_result",
          "data": {
            "text/plain": [
              "'Closing balance for 1967 is Rs. 22500'"
            ],
            "application/vnd.google.colaboratory.intrinsic+json": {
              "type": "string"
            }
          },
          "metadata": {},
          "execution_count": 62
        }
      ]
    }
  ]
}