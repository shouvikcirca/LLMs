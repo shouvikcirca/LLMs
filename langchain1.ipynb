{
  "nbformat": 4,
  "nbformat_minor": 0,
  "metadata": {
    "colab": {
      "provenance": [],
      "include_colab_link": true
    },
    "kernelspec": {
      "name": "python3",
      "display_name": "Python 3"
    },
    "language_info": {
      "name": "python"
    }
  },
  "cells": [
    {
      "cell_type": "markdown",
      "metadata": {
        "id": "view-in-github",
        "colab_type": "text"
      },
      "source": [
        "<a href=\"https://colab.research.google.com/github/shouvikcirca/LLMs/blob/main/langchain1.ipynb\" target=\"_parent\"><img src=\"https://colab.research.google.com/assets/colab-badge.svg\" alt=\"Open In Colab\"/></a>"
      ]
    },
    {
      "cell_type": "code",
      "source": [
        "# ! python --version\n",
        "# ! pip install --upgrade langchain\n",
        "# ! pip install python-dotenv\n",
        "# ! pip install --upgrade openai\n",
        "# ! pip install pypdf\n",
        "# ! pip install tiktoken\n",
        "# ! pip install chromadb\n",
        "# ! pip install cohere\n"
      ],
      "metadata": {
        "id": "w4yKsjPQ3rXm"
      },
      "execution_count": null,
      "outputs": []
    },
    {
      "cell_type": "code",
      "source": [
        "from google.colab import drive\n",
        "drive.mount('/content/drive', force_remount = True)"
      ],
      "metadata": {
        "id": "xazDLq0Q4HX7"
      },
      "execution_count": null,
      "outputs": []
    },
    {
      "cell_type": "code",
      "source": [
        "# ! ls drive/MyDrive"
      ],
      "metadata": {
        "id": "HgV2GGJm4SAo"
      },
      "execution_count": null,
      "outputs": []
    },
    {
      "cell_type": "code",
      "source": [
        "from langchain.document_loaders import PyPDFLoader\n",
        "from dotenv import load_dotenv, find_dotenv\n",
        "import os\n",
        "import sys\n",
        "import openai"
      ],
      "metadata": {
        "id": "eRrRZfelUY7I"
      },
      "execution_count": null,
      "outputs": []
    },
    {
      "cell_type": "code",
      "source": [
        "a = load_dotenv('drive/MyDrive/env')\n",
        "# openai.api_key = os.environ['OPENAI_API_KEY']\n"
      ],
      "metadata": {
        "id": "Ggulgf3PUZHj"
      },
      "execution_count": null,
      "outputs": []
    },
    {
      "cell_type": "code",
      "source": [
        "loader = PyPDFLoader('drive/MyDrive/C-CARES_FRS_Grievance_Redressal.pdf')\n",
        "pages = loader.load()\n",
        "len(pages)"
      ],
      "metadata": {
        "id": "nwCspwg4UZQm"
      },
      "execution_count": null,
      "outputs": []
    },
    {
      "cell_type": "code",
      "source": [
        "# page = pages[3]\n",
        "# print(page.page_content[:1000])"
      ],
      "metadata": {
        "id": "1FpZXvvfUZVX"
      },
      "execution_count": null,
      "outputs": []
    },
    {
      "cell_type": "code",
      "source": [
        "# page.metadata"
      ],
      "metadata": {
        "id": "LWCulmW8UZY1"
      },
      "execution_count": null,
      "outputs": []
    },
    {
      "cell_type": "code",
      "source": [
        "from langchain.text_splitter import RecursiveCharacterTextSplitter, CharacterTextSplitter, TokenTextSplitter"
      ],
      "metadata": {
        "id": "hL6BgM5EtbPB"
      },
      "execution_count": null,
      "outputs": []
    },
    {
      "cell_type": "code",
      "source": [
        "chunk_size = 50\n",
        "chunk_overlap = 10"
      ],
      "metadata": {
        "id": "SjhQF1nztbRw"
      },
      "execution_count": null,
      "outputs": []
    },
    {
      "cell_type": "code",
      "source": [
        "# r_splitter = RecursiveCharacterTextSplitter(\n",
        "#     chunk_size=chunk_size,\n",
        "#     chunk_overlap=chunk_overlap\n",
        "# )\n",
        "# c_splitter = CharacterTextSplitter(\n",
        "#     chunk_size=chunk_size,\n",
        "#     chunk_overlap=chunk_overlap,\n",
        "#     length_function = len\n",
        "# )\n",
        "t_splitter = TokenTextSplitter(\n",
        "    chunk_size=chunk_size,\n",
        "    chunk_overlap=chunk_overlap,\n",
        ")"
      ],
      "metadata": {
        "id": "9j-BMZR1tbUO"
      },
      "execution_count": null,
      "outputs": []
    },
    {
      "cell_type": "code",
      "source": [
        "docs = t_splitter.split_documents(pages)\n",
        "len(docs)"
      ],
      "metadata": {
        "id": "TL48s389tbWo"
      },
      "execution_count": null,
      "outputs": []
    },
    {
      "cell_type": "code",
      "source": [
        "from langchain.embeddings import CohereEmbeddings\n",
        "embedding = CohereEmbeddings(\n",
        "    model=\"embed-english-light-v3.0\", cohere_api_key=os.environ['COHERE_API_KEY']\n",
        ")"
      ],
      "metadata": {
        "id": "ujNI7Rf3tbYy"
      },
      "execution_count": null,
      "outputs": []
    },
    {
      "cell_type": "code",
      "source": [
        "from langchain.vectorstores import Chroma"
      ],
      "metadata": {
        "id": "55cSbqX2tbcK"
      },
      "execution_count": null,
      "outputs": []
    },
    {
      "cell_type": "code",
      "source": [
        "persist_directory = 'docs/chroma/'"
      ],
      "metadata": {
        "id": "QFP3Qr7Bsnp7"
      },
      "execution_count": null,
      "outputs": []
    },
    {
      "cell_type": "code",
      "source": [
        "vectordb = Chroma.from_documents(\n",
        "    documents=docs,\n",
        "    embedding=embedding,\n",
        "    persist_directory=persist_directory\n",
        ")"
      ],
      "metadata": {
        "id": "-4iFjshtsnr2"
      },
      "execution_count": null,
      "outputs": []
    },
    {
      "cell_type": "code",
      "source": [
        "print(vectordb._collection.count())"
      ],
      "metadata": {
        "id": "ZPkzxv86wHOM"
      },
      "execution_count": null,
      "outputs": []
    },
    {
      "cell_type": "code",
      "source": [
        "question = \"What is the grievance redressal module designed for ?\""
      ],
      "metadata": {
        "id": "nTJQe3PQsnuX"
      },
      "execution_count": null,
      "outputs": []
    },
    {
      "cell_type": "code",
      "source": [
        "similardocs = vectordb.similarity_search(question, k = 5)"
      ],
      "metadata": {
        "id": "SM9APo9CsnwT"
      },
      "execution_count": null,
      "outputs": []
    },
    {
      "cell_type": "code",
      "source": [],
      "metadata": {
        "id": "LLvDho7asnyd"
      },
      "execution_count": null,
      "outputs": []
    },
    {
      "cell_type": "code",
      "source": [
        "vectordb.persist() # So that we can use the vector database in the future"
      ],
      "metadata": {
        "id": "WsNyS_3Usn0J"
      },
      "execution_count": null,
      "outputs": []
    },
    {
      "cell_type": "code",
      "source": [],
      "metadata": {
        "id": "gq5o--dcsn2x"
      },
      "execution_count": null,
      "outputs": []
    }
  ]
}