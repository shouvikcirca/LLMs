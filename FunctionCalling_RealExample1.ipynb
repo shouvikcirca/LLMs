{
  "cells": [
    {
      "cell_type": "markdown",
      "metadata": {
        "id": "view-in-github",
        "colab_type": "text"
      },
      "source": [
        "<a href=\"https://colab.research.google.com/github/shouvikcirca/LLMs/blob/openai/FunctionCalling_RealExample1.ipynb\" target=\"_parent\"><img src=\"https://colab.research.google.com/assets/colab-badge.svg\" alt=\"Open In Colab\"/></a>"
      ]
    },
    {
      "cell_type": "code",
      "source": [
        "! pip install --upgrade openai\n",
        "! pip install python-dotenv\n",
        "! pip install --upgrade langchain\n",
        "\n",
        "! pip install -qU langchain-openai"
      ],
      "metadata": {
        "id": "Ag3AQNvy-rhz",
        "outputId": "a27fd11b-1f64-424e-921c-dfc2a1c9dca3",
        "colab": {
          "base_uri": "https://localhost:8080/"
        }
      },
      "execution_count": null,
      "outputs": [
        {
          "output_type": "stream",
          "name": "stdout",
          "text": [
            "\u001b[2K     \u001b[90m━━━━━━━━━━━━━━━━━━━━━━━━━━━━━━━━━━━━━━━━\u001b[0m \u001b[32m1.8/1.8 MB\u001b[0m \u001b[31m4.4 MB/s\u001b[0m eta \u001b[36m0:00:00\u001b[0m\n",
            "\u001b[?25h"
          ]
        }
      ]
    },
    {
      "cell_type": "code",
      "source": [
        "from google.colab import drive\n",
        "drive.mount('/content/drive', force_remount = True)"
      ],
      "metadata": {
        "id": "PSNw6gX3-ULA",
        "outputId": "302bf3dc-d3f4-49d1-8d0f-3ea708f2ae81",
        "colab": {
          "base_uri": "https://localhost:8080/"
        }
      },
      "execution_count": null,
      "outputs": [
        {
          "output_type": "stream",
          "name": "stdout",
          "text": [
            "Mounted at /content/drive\n"
          ]
        }
      ]
    },
    {
      "cell_type": "code",
      "source": [
        "import os\n",
        "import openai\n",
        "\n",
        "from dotenv import load_dotenv, find_dotenv\n",
        "a = load_dotenv('drive/MyDrive/env')\n",
        "openai.api_key = os.environ['OPENAI_API_KEY']"
      ],
      "metadata": {
        "id": "p0uwGz7g-UHx"
      },
      "execution_count": null,
      "outputs": []
    },
    {
      "cell_type": "code",
      "source": [
        "from typing import List\n",
        "from pydantic import BaseModel, Field"
      ],
      "metadata": {
        "id": "gZiXLB0g_Aur"
      },
      "execution_count": null,
      "outputs": []
    },
    {
      "cell_type": "code",
      "source": [
        "class ClosingBalanceSearch(BaseModel):\n",
        "    \"\"\"Call this with a year to get the closing balance for that year\"\"\"\n",
        "    year: str = Field(description=\"year to get closing balance for\")"
      ],
      "metadata": {
        "id": "vf5COEIl-UE5"
      },
      "execution_count": null,
      "outputs": []
    },
    {
      "cell_type": "code",
      "source": [
        "from langchain.utils.openai_functions import convert_pydantic_to_openai_function"
      ],
      "metadata": {
        "id": "bYJ1lzfu-UBw"
      },
      "execution_count": null,
      "outputs": []
    },
    {
      "cell_type": "code",
      "source": [
        "closingbalancesearchfunction = convert_pydantic_to_openai_function(ClosingBalanceSearch)"
      ],
      "metadata": {
        "id": "cBlfa-Xy-T-4",
        "outputId": "b26b3fa8-c807-47fd-a2bb-47521e05e672",
        "colab": {
          "base_uri": "https://localhost:8080/"
        }
      },
      "execution_count": null,
      "outputs": [
        {
          "output_type": "stream",
          "name": "stderr",
          "text": [
            "/usr/local/lib/python3.10/dist-packages/langchain_core/_api/deprecation.py:119: LangChainDeprecationWarning: The function `convert_pydantic_to_openai_function` was deprecated in LangChain 0.1.16 and will be removed in 0.2.0. Use langchain_core.utils.function_calling.convert_to_openai_function() instead.\n",
            "  warn_deprecated(\n"
          ]
        }
      ]
    },
    {
      "cell_type": "code",
      "source": [
        "closingbalancesearchfunction"
      ],
      "metadata": {
        "id": "GIyLurKR-T8P",
        "outputId": "cb26425d-c7fa-458b-a954-4a2bfe2787b7",
        "colab": {
          "base_uri": "https://localhost:8080/"
        }
      },
      "execution_count": null,
      "outputs": [
        {
          "output_type": "execute_result",
          "data": {
            "text/plain": [
              "{'name': 'ClosingBalanceSearch',\n",
              " 'description': 'Call this with a year to get the closing balace for that year',\n",
              " 'parameters': {'properties': {'year': {'description': 'year to get closing balance for',\n",
              "    'type': 'string'}},\n",
              "  'required': ['year'],\n",
              "  'type': 'object'}}"
            ]
          },
          "metadata": {},
          "execution_count": 15
        }
      ]
    },
    {
      "cell_type": "code",
      "source": [
        "from langchain_openai import ChatOpenAI\n",
        "chat = ChatOpenAI(model=\"gpt-3.5-turbo-0125\", api_key=openai.api_key)"
      ],
      "metadata": {
        "id": "DnyCpjE6-T5e"
      },
      "execution_count": null,
      "outputs": []
    },
    {
      "cell_type": "code",
      "source": [
        "chat.invoke(\"I want to know the closing balance for the year 1998\", functions=[closingbalancesearchfunction])"
      ],
      "metadata": {
        "id": "C8lacSav-T2f",
        "outputId": "c107fffc-7403-416a-d94e-6decab0e8a5e",
        "colab": {
          "base_uri": "https://localhost:8080/"
        }
      },
      "execution_count": null,
      "outputs": [
        {
          "output_type": "execute_result",
          "data": {
            "text/plain": [
              "AIMessage(content='', additional_kwargs={'function_call': {'arguments': '{\"year\":\"1998\"}', 'name': 'ClosingBalanceSearch'}}, response_metadata={'token_usage': {'completion_tokens': 17, 'prompt_tokens': 76, 'total_tokens': 93}, 'model_name': 'gpt-3.5-turbo-0125', 'system_fingerprint': 'fp_c2295e73ad', 'finish_reason': 'function_call', 'logprobs': None}, id='run-b24a0dee-aa8b-4a23-ad65-f38966d9f544-0')"
            ]
          },
          "metadata": {},
          "execution_count": 18
        }
      ]
    },
    {
      "cell_type": "code",
      "source": [
        "model_with_function = chat.bind(functions=[closingbalancesearchfunction])"
      ],
      "metadata": {
        "id": "eE4otpdW-Tzf"
      },
      "execution_count": null,
      "outputs": []
    },
    {
      "cell_type": "code",
      "source": [
        "model_with_function.invoke(\"I want to know the closing balance for the year 1998\")"
      ],
      "metadata": {
        "id": "KJk9k8my-Twf"
      },
      "execution_count": null,
      "outputs": []
    },
    {
      "cell_type": "code",
      "source": [
        "from langchain.prompts import ChatPromptTemplate"
      ],
      "metadata": {
        "id": "Ckxt5OUf-Ttv"
      },
      "execution_count": null,
      "outputs": []
    },
    {
      "cell_type": "code",
      "source": [
        "prompt = ChatPromptTemplate.from_messages([\n",
        "    (\"system\", \"You are a helpful assistant\"),\n",
        "    (\"user\", \"{input}\")\n",
        "])"
      ],
      "metadata": {
        "id": "P5qyWRjGME6y"
      },
      "execution_count": null,
      "outputs": []
    },
    {
      "cell_type": "code",
      "source": [
        "# from langchain.output_parsers.openai_functions import JsonOutputFunctionsParser\n",
        "import json"
      ],
      "metadata": {
        "id": "FYeM6m78N8C9"
      },
      "execution_count": null,
      "outputs": []
    },
    {
      "cell_type": "code",
      "source": [
        "parameterExtractionChain = prompt | model_with_function #| JsonOutputFunctionsParser()\n",
        "r = parameterExtractionChain.invoke({\"input\": \"I want to know the closing balance for the year 1998\"})\n",
        "r.additional_kwargs['function_call']['name']"
      ],
      "metadata": {
        "id": "-pH6hBSHME9h",
        "outputId": "c1a28cb6-a28f-4a7f-89d1-9576974f0328",
        "colab": {
          "base_uri": "https://localhost:8080/",
          "height": 35
        }
      },
      "execution_count": null,
      "outputs": [
        {
          "output_type": "execute_result",
          "data": {
            "text/plain": [
              "'ClosingBalanceSearch'"
            ],
            "application/vnd.google.colaboratory.intrinsic+json": {
              "type": "string"
            }
          },
          "metadata": {},
          "execution_count": 59
        }
      ]
    },
    {
      "cell_type": "code",
      "source": [
        "json.loads(r.additional_kwargs['function_call']['arguments'])['year']"
      ],
      "metadata": {
        "id": "DAjf4QxfRbfj",
        "outputId": "183f3965-8fd5-450b-db34-1b3d36b15f42",
        "colab": {
          "base_uri": "https://localhost:8080/",
          "height": 35
        }
      },
      "execution_count": null,
      "outputs": [
        {
          "output_type": "execute_result",
          "data": {
            "text/plain": [
              "'1998'"
            ],
            "application/vnd.google.colaboratory.intrinsic+json": {
              "type": "string"
            }
          },
          "metadata": {},
          "execution_count": 61
        }
      ]
    },
    {
      "cell_type": "code",
      "source": [],
      "metadata": {
        "id": "xeDlpWQyMFJa"
      },
      "execution_count": null,
      "outputs": []
    }
  ],
  "metadata": {
    "colab": {
      "toc_visible": true,
      "provenance": [],
      "gpuType": "T4",
      "include_colab_link": true
    },
    "kernelspec": {
      "display_name": "Python 3",
      "name": "python3"
    },
    "accelerator": "GPU"
  },
  "nbformat": 4,
  "nbformat_minor": 0
}