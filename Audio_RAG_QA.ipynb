{
  "cells": [
    {
      "cell_type": "markdown",
      "metadata": {
        "id": "view-in-github",
        "colab_type": "text"
      },
      "source": [
        "<a href=\"https://colab.research.google.com/github/shouvikcirca/LLMs/blob/main/Audio_RAG_QA.ipynb\" target=\"_parent\"><img src=\"https://colab.research.google.com/assets/colab-badge.svg\" alt=\"Open In Colab\"/></a>"
      ]
    },
    {
      "cell_type": "code",
      "source": [
        "! pip install transformers==4.37.2\n",
        "! pip install torch\n",
        "! pip install gradio\n",
        "! pip install -U datasets\n",
        "! pip install librosa\n",
        "! pip install openai\n",
        "! pip install python-dotenv\n",
        "! pip install google-generativeai\n",
        "! pip install chromadb\n",
        "! pip install langchain-google-genai\n",
        "! pip install langchain\n",
        "! pip install langchain-community"
      ],
      "metadata": {
        "id": "ZH0--2yPfD4i"
      },
      "execution_count": null,
      "outputs": []
    },
    {
      "cell_type": "code",
      "source": [
        "from transformers import pipeline\n",
        "import torch\n",
        "import gradio as gr\n",
        "import numpy as np\n",
        "import librosa\n",
        "import openai\n",
        "from dotenv import load_dotenv\n",
        "import os\n",
        "from langchain_google_genai import ChatGoogleGenerativeAI\n",
        "from langchain_google_genai import GoogleGenerativeAIEmbeddings\n",
        "from langchain.prompts import PromptTemplate\n",
        "from langchain.chains import create_retrieval_chain\n",
        "from langchain.vectorstores import Chroma\n",
        "from langchain_community.document_loaders.telegram import text_to_docs\n",
        "from langchain.chains.combine_documents import create_stuff_documents_chain\n",
        "import google.generativeai as genai"
      ],
      "metadata": {
        "id": "4xqSxBt3BKpy"
      },
      "execution_count": 2,
      "outputs": []
    },
    {
      "cell_type": "code",
      "source": [
        "from google.colab import drive\n",
        "drive.mount('/content/drive', force_remount = True)"
      ],
      "metadata": {
        "id": "dTWz1bhr_LKZ",
        "outputId": "f7dd2486-a514-4164-ba55-5d635a879de7",
        "colab": {
          "base_uri": "https://localhost:8080/"
        }
      },
      "execution_count": 3,
      "outputs": [
        {
          "output_type": "stream",
          "name": "stdout",
          "text": [
            "Mounted at /content/drive\n"
          ]
        }
      ]
    },
    {
      "cell_type": "code",
      "source": [
        "!ls drive/MyDrive/LLM/chroma_db"
      ],
      "metadata": {
        "id": "6MND9UXQEwNt",
        "outputId": "ffa755e3-e592-4f0f-c79c-48fd9cef10d9",
        "colab": {
          "base_uri": "https://localhost:8080/"
        }
      },
      "execution_count": 16,
      "outputs": [
        {
          "output_type": "stream",
          "name": "stdout",
          "text": [
            "4562bfcd-74b5-4703-b8e2-0030a0868561  855bd276-096b-4bad-8022-45c39a4877fa  chroma.sqlite3\n"
          ]
        }
      ]
    },
    {
      "cell_type": "code",
      "source": [
        "_= load_dotenv('drive/MyDrive/env')\n",
        "openai_api_key = os.environ['OPENAI_API_KEY']\n",
        "gemini_api_key = os.environ['GEMINI_API_KEY']\n",
        "\n",
        "audioClient = openai.OpenAI(api_key = openai_api_key)\n",
        "llm = ChatGoogleGenerativeAI(model=\"gemini-pro\", google_api_key=gemini_api_key)\n",
        "embeddings = GoogleGenerativeAIEmbeddings(model=\"models/embedding-001\",google_api_key=gemini_api_key)"
      ],
      "metadata": {
        "id": "oyXddJQk-X1N"
      },
      "execution_count": 9,
      "outputs": []
    },
    {
      "cell_type": "code",
      "source": [
        "vectordb = Chroma(\n",
        "    persist_directory='drive/MyDrive/LLM/chroma_db/',\n",
        "    embedding_function=embeddings\n",
        "    collection_name=''\n",
        ")"
      ],
      "metadata": {
        "id": "E2Es6Pc2DQG1"
      },
      "execution_count": 20,
      "outputs": []
    },
    {
      "cell_type": "code",
      "source": [],
      "metadata": {
        "id": "yHWE83zrGDPI",
        "outputId": "3a648642-13f8-4661-c256-d2cd7a9e166b",
        "colab": {
          "base_uri": "https://localhost:8080/"
        }
      },
      "execution_count": 19,
      "outputs": [
        {
          "output_type": "execute_result",
          "data": {
            "text/plain": [
              "388"
            ]
          },
          "metadata": {},
          "execution_count": 19
        }
      ]
    },
    {
      "cell_type": "code",
      "source": [
        "vectordb.get()"
      ],
      "metadata": {
        "id": "WKsWNGOwDQLq",
        "outputId": "86b9c9c4-be33-4f74-b921-1c69cc6cb02d",
        "colab": {
          "base_uri": "https://localhost:8080/"
        }
      },
      "execution_count": 21,
      "outputs": [
        {
          "output_type": "execute_result",
          "data": {
            "text/plain": [
              "{'ids': [],\n",
              " 'embeddings': None,\n",
              " 'metadatas': [],\n",
              " 'documents': [],\n",
              " 'uris': None,\n",
              " 'data': None}"
            ]
          },
          "metadata": {},
          "execution_count": 21
        }
      ]
    },
    {
      "cell_type": "code",
      "source": [],
      "metadata": {
        "id": "hyZJcHCSDQPZ"
      },
      "execution_count": null,
      "outputs": []
    },
    {
      "cell_type": "code",
      "source": [],
      "metadata": {
        "id": "dpc-_wtRDQS-"
      },
      "execution_count": null,
      "outputs": []
    },
    {
      "cell_type": "code",
      "source": [
        "demo = gr.Blocks()"
      ],
      "metadata": {
        "id": "NmnZvB1xnVn4"
      },
      "execution_count": 23,
      "outputs": []
    },
    {
      "cell_type": "code",
      "source": [
        "asr = pipeline(task=\"automatic-speech-recognition\",model=\"distil-whisper/distil-small.en\")"
      ],
      "metadata": {
        "id": "VipvICh9ptoZ"
      },
      "execution_count": null,
      "outputs": []
    },
    {
      "cell_type": "code",
      "source": [
        "def transcribe_speech(audioSample):\n",
        "  audioSampleReshaped = audioSample[1].astype(float)\n",
        "  audioResampled = librosa.resample(audioSampleReshaped, orig_sr=44100,target_sr=16000)\n",
        "  output = asr(audioResampled)\n",
        "  return output[\"text\"]"
      ],
      "metadata": {
        "id": "9Ioc5dEAqHhM"
      },
      "execution_count": null,
      "outputs": []
    },
    {
      "cell_type": "code",
      "source": [
        "mic_transcribe = gr.Interface(\n",
        "    fn = transcribe_speech,\n",
        "    inputs = gr.Audio(sources=\"microphone\",type='numpy'),\n",
        "    outputs = gr.Textbox(label=\"Transcription\", lines=3),\n",
        "    allow_flagging='never'\n",
        ")"
      ],
      "metadata": {
        "id": "eA1yd5xaoVeI"
      },
      "execution_count": null,
      "outputs": []
    },
    {
      "cell_type": "code",
      "source": [
        "mic_transcribe.launch(debug=True)"
      ],
      "metadata": {
        "colab": {
          "base_uri": "https://localhost:8080/",
          "height": 645
        },
        "id": "71yRrKTar_Dw",
        "outputId": "0647ded3-a788-40de-f4a9-75fe350e424d"
      },
      "execution_count": null,
      "outputs": [
        {
          "output_type": "stream",
          "name": "stdout",
          "text": [
            "Setting queue=True in a Colab notebook requires sharing enabled. Setting `share=True` (you can turn this off by setting `share=False` in `launch()` explicitly).\n",
            "\n",
            "Colab notebook detected. This cell will run indefinitely so that you can see errors and logs. To turn off, set debug=False in launch().\n",
            "Running on public URL: https://ca55ff2210e2f5ed4e.gradio.live\n",
            "\n",
            "This share link expires in 72 hours. For free permanent hosting and GPU upgrades, run `gradio deploy` from Terminal to deploy to Spaces (https://huggingface.co/spaces)\n"
          ]
        },
        {
          "output_type": "display_data",
          "data": {
            "text/plain": [
              "<IPython.core.display.HTML object>"
            ],
            "text/html": [
              "<div><iframe src=\"https://ca55ff2210e2f5ed4e.gradio.live\" width=\"100%\" height=\"500\" allow=\"autoplay; camera; microphone; clipboard-read; clipboard-write;\" frameborder=\"0\" allowfullscreen></iframe></div>"
            ]
          },
          "metadata": {}
        }
      ]
    },
    {
      "cell_type": "code",
      "source": [
        "mic_transcribe.close()"
      ],
      "metadata": {
        "id": "A7zqPvDANa_M",
        "outputId": "5d834b0e-4ae6-4681-8b7e-b2d037a25a64",
        "colab": {
          "base_uri": "https://localhost:8080/"
        }
      },
      "execution_count": null,
      "outputs": [
        {
          "output_type": "stream",
          "name": "stdout",
          "text": [
            "Closing server running on port: 7860\n"
          ]
        }
      ]
    },
    {
      "cell_type": "code",
      "source": [
        "#For checking sampling rate\n",
        "# import numpy as np\n",
        "# at = np.transpose(audioSample)\n",
        "# import librosa\n",
        "# audio_mono = librosa.to_mono(at)\\\n",
        "# aresampled = librosa.resample(audio_mono, orig_sr=16000,target_sr=16000)\n",
        "asr.feature_extractor.sampling_rate"
      ],
      "metadata": {
        "id": "seUsStlspsGJ"
      },
      "execution_count": null,
      "outputs": []
    },
    {
      "cell_type": "code",
      "source": [],
      "metadata": {
        "id": "DG756zC4psHI"
      },
      "execution_count": null,
      "outputs": []
    },
    {
      "cell_type": "code",
      "source": [
        "translator = pipeline(task=\"translation\", model=\"facebook/nllb-200-distilled-600M\", torch_dtype=torch.bfloat16)"
      ],
      "metadata": {
        "id": "kuIObeFrfD66"
      },
      "execution_count": null,
      "outputs": []
    },
    {
      "cell_type": "code",
      "source": [
        "text_translated"
      ],
      "metadata": {
        "colab": {
          "base_uri": "https://localhost:8080/"
        },
        "id": "P283aZqOiA4F",
        "outputId": "5b3c33fa-e751-487c-8ead-b3caf46bb6c5"
      },
      "execution_count": null,
      "outputs": [
        {
          "output_type": "execute_result",
          "data": {
            "text/plain": [
              "[{'translation_text': 'How are you?'}]"
            ]
          },
          "metadata": {},
          "execution_count": 21
        }
      ]
    },
    {
      "cell_type": "code",
      "source": [],
      "metadata": {
        "id": "X6CD9CpuiA6t"
      },
      "execution_count": null,
      "outputs": []
    },
    {
      "cell_type": "code",
      "source": [],
      "metadata": {
        "id": "GAZXoctviA9g"
      },
      "execution_count": null,
      "outputs": []
    },
    {
      "cell_type": "code",
      "source": [],
      "metadata": {
        "id": "6X-fDPAUfD9a"
      },
      "execution_count": null,
      "outputs": []
    },
    {
      "cell_type": "code",
      "source": [],
      "metadata": {
        "id": "2bI0mlp2fEAS"
      },
      "execution_count": null,
      "outputs": []
    },
    {
      "cell_type": "code",
      "source": [],
      "metadata": {
        "id": "EWGLxxaqfEC6"
      },
      "execution_count": null,
      "outputs": []
    },
    {
      "cell_type": "code",
      "source": [],
      "metadata": {
        "id": "WwMAPCjTfEFS"
      },
      "execution_count": null,
      "outputs": []
    },
    {
      "cell_type": "code",
      "source": [],
      "metadata": {
        "id": "ctAQl3-RfEHz"
      },
      "execution_count": null,
      "outputs": []
    },
    {
      "cell_type": "code",
      "source": [],
      "metadata": {
        "id": "ZcT8UzLqfEKi"
      },
      "execution_count": null,
      "outputs": []
    }
  ],
  "metadata": {
    "colab": {
      "name": "Welcome To Colaboratory",
      "toc_visible": true,
      "provenance": [],
      "gpuType": "T4",
      "include_colab_link": true
    },
    "kernelspec": {
      "display_name": "Python 3",
      "name": "python3"
    },
    "accelerator": "GPU"
  },
  "nbformat": 4,
  "nbformat_minor": 0
}